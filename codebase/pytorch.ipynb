{
 "cells": [
  {
   "cell_type": "code",
   "execution_count": 1,
   "id": "782dd7f5",
   "metadata": {
    "ExecuteTime": {
     "end_time": "2022-09-18T06:59:51.869466Z",
     "start_time": "2022-09-18T06:59:50.481231Z"
    }
   },
   "outputs": [],
   "source": [
    "import torch"
   ]
  },
  {
   "cell_type": "code",
   "execution_count": 2,
   "id": "98766c0e",
   "metadata": {
    "ExecuteTime": {
     "end_time": "2022-09-18T07:00:04.668123Z",
     "start_time": "2022-09-18T07:00:04.659018Z"
    }
   },
   "outputs": [
    {
     "name": "stdout",
     "output_type": "stream",
     "text": [
      "1.12.1+cu113\n"
     ]
    }
   ],
   "source": [
    "print(torch.__version__)"
   ]
  },
  {
   "cell_type": "code",
   "execution_count": 3,
   "id": "eff440c5",
   "metadata": {
    "ExecuteTime": {
     "end_time": "2022-09-18T07:00:20.383173Z",
     "start_time": "2022-09-18T07:00:19.325248Z"
    }
   },
   "outputs": [
    {
     "data": {
      "text/plain": [
       "True"
      ]
     },
     "execution_count": 3,
     "metadata": {},
     "output_type": "execute_result"
    }
   ],
   "source": [
    "torch.cuda.is_available()"
   ]
  },
  {
   "cell_type": "code",
   "execution_count": null,
   "id": "4acc3854",
   "metadata": {},
   "outputs": [],
   "source": []
  }
 ],
 "metadata": {
  "kernelspec": {
   "display_name": "Python 3 (ipykernel)",
   "language": "python",
   "name": "python3"
  },
  "language_info": {
   "codemirror_mode": {
    "name": "ipython",
    "version": 3
   },
   "file_extension": ".py",
   "mimetype": "text/x-python",
   "name": "python",
   "nbconvert_exporter": "python",
   "pygments_lexer": "ipython3",
   "version": "3.7.13"
  }
 },
 "nbformat": 4,
 "nbformat_minor": 5
}
