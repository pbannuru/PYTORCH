{
 "cells": [
  {
   "cell_type": "code",
   "execution_count": 1,
   "id": "027ca1e2",
   "metadata": {
    "ExecuteTime": {
     "end_time": "2022-09-18T07:12:42.878064Z",
     "start_time": "2022-09-18T07:12:41.997051Z"
    }
   },
   "outputs": [],
   "source": [
    "import torch\n",
    "import numpy as np\n",
    "import os\n"
   ]
  },
  {
   "cell_type": "code",
   "execution_count": 6,
   "id": "d15e65c5",
   "metadata": {
    "ExecuteTime": {
     "end_time": "2022-09-18T07:14:08.239944Z",
     "start_time": "2022-09-18T07:14:08.229936Z"
    }
   },
   "outputs": [
    {
     "data": {
      "text/plain": [
       "'cuda'"
      ]
     },
     "execution_count": 6,
     "metadata": {},
     "output_type": "execute_result"
    }
   ],
   "source": [
    "device =\"cuda\" if torch.cuda.is_available() else \"cpu\"\n",
    "device"
   ]
  },
  {
   "cell_type": "code",
   "execution_count": 8,
   "id": "19edb1ad",
   "metadata": {
    "ExecuteTime": {
     "end_time": "2022-09-18T07:14:56.154503Z",
     "start_time": "2022-09-18T07:14:56.139117Z"
    }
   },
   "outputs": [
    {
     "data": {
      "text/plain": [
       "tensor([[ 1,  2,  3],\n",
       "        [11, 22, 33]])"
      ]
     },
     "execution_count": 8,
     "metadata": {},
     "output_type": "execute_result"
    }
   ],
   "source": [
    "basic_tensor = torch.tensor([[1,2,3],[11,22,33]])\n",
    "basic_tensor"
   ]
  },
  {
   "cell_type": "code",
   "execution_count": 9,
   "id": "19a4967d",
   "metadata": {
    "ExecuteTime": {
     "end_time": "2022-09-18T07:15:07.358623Z",
     "start_time": "2022-09-18T07:15:07.353090Z"
    }
   },
   "outputs": [
    {
     "data": {
      "text/plain": [
       "torch.int64"
      ]
     },
     "execution_count": 9,
     "metadata": {},
     "output_type": "execute_result"
    }
   ],
   "source": [
    "basic_tensor.dtype"
   ]
  },
  {
   "cell_type": "code",
   "execution_count": 10,
   "id": "8e067d93",
   "metadata": {
    "ExecuteTime": {
     "end_time": "2022-09-18T07:15:15.717271Z",
     "start_time": "2022-09-18T07:15:15.709917Z"
    }
   },
   "outputs": [
    {
     "data": {
      "text/plain": [
       "device(type='cpu')"
      ]
     },
     "execution_count": 10,
     "metadata": {},
     "output_type": "execute_result"
    }
   ],
   "source": [
    "basic_tensor.device"
   ]
  },
  {
   "cell_type": "code",
   "execution_count": 11,
   "id": "72ad6190",
   "metadata": {
    "ExecuteTime": {
     "end_time": "2022-09-18T07:15:26.921846Z",
     "start_time": "2022-09-18T07:15:26.903777Z"
    }
   },
   "outputs": [
    {
     "data": {
      "text/plain": [
       "torch.Size([2, 3])"
      ]
     },
     "execution_count": 11,
     "metadata": {},
     "output_type": "execute_result"
    }
   ],
   "source": [
    "basic_tensor.shape"
   ]
  },
  {
   "cell_type": "code",
   "execution_count": 12,
   "id": "7e386f23",
   "metadata": {
    "ExecuteTime": {
     "end_time": "2022-09-18T07:15:47.170711Z",
     "start_time": "2022-09-18T07:15:47.161160Z"
    }
   },
   "outputs": [
    {
     "data": {
      "text/plain": [
       "False"
      ]
     },
     "execution_count": 12,
     "metadata": {},
     "output_type": "execute_result"
    }
   ],
   "source": [
    "basic_tensor.requires_grad"
   ]
  },
  {
   "cell_type": "code",
   "execution_count": 13,
   "id": "4e4e8b57",
   "metadata": {
    "ExecuteTime": {
     "end_time": "2022-09-18T07:17:13.853151Z",
     "start_time": "2022-09-18T07:17:11.604320Z"
    }
   },
   "outputs": [
    {
     "data": {
      "text/plain": [
       "tensor([[ 1.,  2.,  3.],\n",
       "        [11., 22., 33.]], device='cuda:0', requires_grad=True)"
      ]
     },
     "execution_count": 13,
     "metadata": {},
     "output_type": "execute_result"
    }
   ],
   "source": [
    "tensor = torch.tensor([[1,2,3],[11,22,33]], dtype = torch.float,device=device,requires_grad = True)\n",
    "tensor"
   ]
  },
  {
   "cell_type": "code",
   "execution_count": null,
   "id": "d67719f1",
   "metadata": {},
   "outputs": [],
   "source": []
  }
 ],
 "metadata": {
  "kernelspec": {
   "display_name": "Python 3 (ipykernel)",
   "language": "python",
   "name": "python3"
  },
  "language_info": {
   "codemirror_mode": {
    "name": "ipython",
    "version": 3
   },
   "file_extension": ".py",
   "mimetype": "text/x-python",
   "name": "python",
   "nbconvert_exporter": "python",
   "pygments_lexer": "ipython3",
   "version": "3.7.13"
  }
 },
 "nbformat": 4,
 "nbformat_minor": 5
}
